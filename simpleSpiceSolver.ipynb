{
 "cells": [
  {
   "attachments": {},
   "cell_type": "markdown",
   "id": "71e3938d",
   "metadata": {
    "tags": []
   },
   "source": [
    "# Problem statement 01\n",
    "\n",
    "- Write a linear equation solver that will take in matrices $A$ and $b$ as inputs, and return the vector $x$ that solves the equation $Ax=b$.  Your function should catch errors in the inputs and return suitable error messages for different possible problems.\n",
    "  - Time your solver to solve a random $10\\times 10$ system of equations.  Compare the time taken against the `numpy.linalg.solve` function for the same inputs."
   ]
  },
  {
   "cell_type": "code",
   "execution_count": 1,
   "id": "bc611355",
   "metadata": {},
   "outputs": [],
   "source": [
    "import numpy as np"
   ]
  },
  {
   "attachments": {},
   "cell_type": "markdown",
   "id": "b4e4ca07",
   "metadata": {
    "tags": []
   },
   "source": [
    "### My linear equation solver function."
   ]
  },
  {
   "attachments": {},
   "cell_type": "markdown",
   "id": "c6e8a791",
   "metadata": {},
   "source": [
    "*Note: The following function works only for **square matrix A***"
   ]
  },
  {
   "cell_type": "code",
   "execution_count": null,
   "id": "20469db3",
   "metadata": {},
   "outputs": [],
   "source": [
    "def MySolver(A, b, w = 0):\n",
    "\n",
    "    (m, m) = np.shape(A)\n",
    "    if w != 0:\n",
    "        aug = np.zeros((m+1, m), dtype=complex)\n",
    "    else:\n",
    "        aug = np.zeros((m+1, m))\n",
    "    A = np.transpose(A)\n",
    "    for j in range(m):\n",
    "        aug[j] += A[j]\n",
    "    aug[m] += b\n",
    "    aug = np.transpose(aug)\n",
    "# Formed an augmented matrix.\n",
    "    for a in range(m):\n",
    "        if aug[a][a] == 0:\n",
    "            for i in range(a, m):\n",
    "                if aug[i][a] != 0:\n",
    "                    aug[[a, i]] = aug[[i, a]]\n",
    "    for i in range(m):\n",
    "        if aug[i][i] == 0:\n",
    "            print('No solution')\n",
    "            return\n",
    "# Reformed augmented matrix to make sure of \n",
    "    def rref(X, k):\n",
    "        (n,_) = np.shape(X)\n",
    "        X[k] /= X[k][k]\n",
    "        for i in range(k+1, n):\n",
    "            for a in range(m):\n",
    "                if X[a][a] == 0:\n",
    "                    for w in range(a, m):\n",
    "                        if X[w][a] != 0:\n",
    "                            X[[a, w]] = X[[w, a]]\n",
    "            X[i] -= X[i][k]*X[k]\n",
    "        if k < n-1:\n",
    "            rref(X, k+1)\n",
    "# Formed the lower triangular matrix of the augmented matrix.\n",
    "        else:\n",
    "            for i in range(m-1, 0, -1):\n",
    "                for j in range(1, i+1):\n",
    "                    X[i-j] -= X[i]*X[i-j][i]\n",
    "# Formed an identity matrix in place of 'A' in the augmented matrix.\n",
    "        ans = np.transpose(X)[-1]\n",
    "        for x in ans:\n",
    "            x = str(x)\n",
    "            if x == 'nan' or x == 'inf' or x == '-inf':\n",
    "                return\n",
    "            else:\n",
    "                return list(ans)\n",
    "# Got the last column matrix, which is the final answer.\n",
    "    if (rref(aug, 0) == 'nan'):\n",
    "        print('No solution.')\n",
    "    else:\n",
    "        return rref(aug, 0)\n"
   ]
  },
  {
   "attachments": {},
   "cell_type": "markdown",
   "id": "53427f4b",
   "metadata": {},
   "source": [
    "**Explanation:**\n",
    "\n",
    "- This function can solve a set of linear equations, given that #equations = #variables.\n",
    "- This is based on Gaussian method of solving linear equations.\n",
    "- It will form an augmented matrix using the 2 given matrices.\n",
    "- Then using row operations, the augmented matrix is reduced to **rref**(row reduced echlon form).\n",
    "- Thus formed matrix will be an augmented matrix of identity matrix and the solution for the set of equations.\n",
    "- It can also say if the given set of equations has solutions.\n",
    "- It can also solve if the coefficients are complex numbers."
   ]
  },
  {
   "cell_type": "code",
   "execution_count": null,
   "id": "c299baeb",
   "metadata": {},
   "outputs": [],
   "source": [
    "y = 10\n",
    "A = np.random.rand(y,y)\n",
    "b = np.random.rand(y)\n",
    "\n",
    "print(f'Shape of A = {np.shape(A)}')\n",
    "print(f'Shape of b = {np.shape(b)}')"
   ]
  },
  {
   "attachments": {},
   "cell_type": "markdown",
   "id": "6b1a997e",
   "metadata": {},
   "source": [
    "The above code is to create a 10 x 10 matrix with random entries."
   ]
  },
  {
   "cell_type": "code",
   "execution_count": null,
   "id": "1bc02532",
   "metadata": {},
   "outputs": [],
   "source": [
    "print(f'The solution of given matix is {MySolver(A,b)}')\n",
    "%timeit MySolver(A,b)"
   ]
  },
  {
   "attachments": {},
   "cell_type": "markdown",
   "id": "94b22ab2",
   "metadata": {},
   "source": [
    "- When I run the function with a 10X10 matrix as input, the time calculated by timeit function came around 690 micro seconds, which I feel is quite good."
   ]
  },
  {
   "cell_type": "code",
   "execution_count": null,
   "id": "4a6022bd",
   "metadata": {},
   "outputs": [],
   "source": [
    "def NumpySolver(A, b):\n",
    "    return np.linalg.solve(A, b)\n",
    "print(NumpySolver(A, b))\n",
    "%timeit NumpySolver(A, b)"
   ]
  },
  {
   "attachments": {},
   "cell_type": "markdown",
   "id": "e1c0fe13",
   "metadata": {},
   "source": [
    "**Explanation:**\n",
    "\n",
    "- There's a module called **linalg** in numpy library, which has **solve** function that can solve linear equations. Using `np.linalg.solve()` I called that function.\n",
    "- It took time of around 15 micro seconds for the same input as given to MySolver, which is 100 times more efficient than MySolver."
   ]
  },
  {
   "attachments": {},
   "cell_type": "markdown",
   "id": "7d3e93e3",
   "metadata": {
    "tags": []
   },
   "source": [
    "### Intelligent user input."
   ]
  },
  {
   "cell_type": "code",
   "execution_count": null,
   "id": "44a3cefd",
   "metadata": {},
   "outputs": [],
   "source": [
    "def SolveInputdata():\n",
    "    try:\n",
    "        y = int(input('Enter the no. of equations to be solved: '))\n",
    "        x = int(input('Enter no. of unknown variables: '))\n",
    "    except:\n",
    "        print('Enter integer only.')\n",
    "    if x != y:\n",
    "        print('Expected to have same no. of equations as that of no. of variables.')\n",
    "    else:\n",
    "        A = np.zeros((x, x))\n",
    "        print(\"Enter the entries of matrix A row wise.\")\n",
    "        for i in range(x):\n",
    "            for j in range(x):\n",
    "                status = 'wrong'\n",
    "                while status == 'wrong':\n",
    "                    try:\n",
    "                        status = 'correct'\n",
    "                        A[i][j] = float(input(f'A[{i}][{j}] = '))\n",
    "                    except:\n",
    "                        status = 'wrong'\n",
    "                        print(\"Enter the correct element.\")\n",
    "        print(\"Enter the entries of matrix B.\")\n",
    "        b = np.zeros(x)\n",
    "        for i in range(x):\n",
    "            status = 'wrong'\n",
    "            while status == 'wrong':\n",
    "                try:\n",
    "                    status = 'correct'\n",
    "                    b[i] = float(input(f'b[{i}] = '))\n",
    "                except:\n",
    "                    status = 'wrong'\n",
    "                    print(\"Enter the correct element.\")\n",
    "                    b[i] = input(f'b[{i}] = ')\n",
    "        \n",
    "        print(f'A = {A}')\n",
    "        print(f'b = {b}')\n",
    "        return MySolver(A, b)"
   ]
  },
  {
   "cell_type": "code",
   "execution_count": null,
   "id": "96d94bc0",
   "metadata": {},
   "outputs": [],
   "source": [
    "SolveInputdata()"
   ]
  },
  {
   "attachments": {},
   "cell_type": "markdown",
   "id": "e9293e04",
   "metadata": {},
   "source": [
    "**Explanation:**\n",
    "\n",
    "- This function takes user input, forms matrices, calles **MySolver** function with correct arguments and returns it, which is the solution.\n",
    "- The function talks to user if there's any problem in input data.\n",
    "- If A is not a square matrix, function ends.\n",
    "- Also if entries of matrices are not the integers, it keeps taking that entry untill the user puts in the valid entry."
   ]
  },
  {
   "attachments": {},
   "cell_type": "markdown",
   "id": "18be7fa6",
   "metadata": {
    "tags": []
   },
   "source": [
    "## Problem statement 02\n",
    "\n",
    "- Given a circuit netlist in the form described above, read it in from a file, construct the appropriate matrices, and use the solver you have written above to obtain the voltages and currents in the circuit.  If you find AC circuits hard to handle, first do this for pure DC circuits, but you should be able to handle both voltage and current sources."
   ]
  },
  {
   "attachments": {},
   "cell_type": "markdown",
   "id": "0b611853",
   "metadata": {
    "tags": []
   },
   "source": [
    "### Creating a .netlist file."
   ]
  },
  {
   "cell_type": "code",
   "execution_count": null,
   "id": "d6ae2bbe",
   "metadata": {},
   "outputs": [],
   "source": [
    "with open('dcCkt.netlist', 'w') as f:\n",
    "    f.write('''.circuit\n",
    "V1 GND 1 dc 30\n",
    "R1 1 2 4\n",
    "R2 2 GND 6\n",
    "R3 2 3 6\n",
    "R4 3 GND 12\n",
    "I1 3 4 dc 1\n",
    "R5 4 GND 12\n",
    ".end''')"
   ]
  },
  {
   "attachments": {},
   "cell_type": "markdown",
   "id": "2beba0fa",
   "metadata": {},
   "source": [
    "**Explanation:**\n",
    "\n",
    "- Using the basic write to file synatx, I created a file named 'dcCkt.netlist'."
   ]
  },
  {
   "attachments": {},
   "cell_type": "markdown",
   "id": "3f145acf",
   "metadata": {
    "tags": []
   },
   "source": [
    "### What is in the .netlist file."
   ]
  },
  {
   "cell_type": "code",
   "execution_count": null,
   "id": "25694af4",
   "metadata": {},
   "outputs": [],
   "source": [
    "def datainfile(filename):\n",
    "    with open(filename) as f:\n",
    "        line = 'start'\n",
    "        r = v = i = c = l = ac =0\n",
    "        while line != '':\n",
    "            line = f.readline()\n",
    "            spl = line.split()\n",
    "            try:\n",
    "                if line[0] == 'V':\n",
    "                    v += 1\n",
    "                    if spl[3] == 'ac':\n",
    "                        ac += 1\n",
    "                        print(f'{spl[3]} voltage source(V{v}) of {float(spl[4])}V and phase {spl[5]} connected between nodes {spl[1]} and {spl[2]}')\n",
    "                    else:\n",
    "                        print(f'{spl[3]} voltage source(V{v}) of {float(spl[4])}V connected between nodes {spl[1]} and {spl[2]}')\n",
    "                elif line[0] == 'R':\n",
    "                    r += 1\n",
    "                    print(f'Resistor(R{r}) of {float(spl[3])} ohms connected between nodes {spl[1]} and {spl[2]}')\n",
    "                elif line[0] == 'C':\n",
    "                    c += 1\n",
    "                    print(f'Capacitor(C{c}) of {float(spl[3])}F connected between nodes {spl[1]} and {spl[2]}')\n",
    "                elif line[0] == 'L':\n",
    "                    l += 1\n",
    "                    print(f'Inductor(L{l}) of {float(spl[3])}H connected between nodes {spl[1]} and {spl[2]}')\n",
    "                elif line[0] == 'I':\n",
    "                    i += 1\n",
    "                    if spl[3] == 'ac':\n",
    "                        ac += 1\n",
    "                        print(f'{spl[3]} current source(I{i}) of {float(spl[4])}A and phase {spl[5]} connected between nodes {spl[1]} and {spl[2]}')\n",
    "                    else:\n",
    "                        print(f'{spl[3]} current source(I{i}) of {float(spl[4])}A connected between nodes {spl[1]} and {spl[2]}')\n",
    "                for i in range(ac):\n",
    "                    if line[4] == 'V':\n",
    "                        print(f'Frequency of AC {spl[1]} = {spl[2]}')\n",
    "                    if line[4] == 'I':\n",
    "                        print(f'Frequency of {spl[1]} = {spl[2]}') \n",
    "            except:\n",
    "                pass"
   ]
  },
  {
   "cell_type": "code",
   "execution_count": null,
   "id": "772f6898",
   "metadata": {},
   "outputs": [],
   "source": [
    "datainfile('acCkt2.netlist')"
   ]
  },
  {
   "attachments": {},
   "cell_type": "markdown",
   "id": "04defc5e-44de-4ead-9a0a-731969a679b2",
   "metadata": {},
   "source": [
    "**Explanation:**\n",
    "\n",
    "This function reads the content of the file and gives out all the data about the defined circuit in human readable format."
   ]
  },
  {
   "attachments": {},
   "cell_type": "markdown",
   "id": "a3c3b46b-5a66-4d1a-8a34-77d61e7852a6",
   "metadata": {
    "tags": []
   },
   "source": [
    "### Circuit solver using MNA"
   ]
  },
  {
   "cell_type": "code",
   "execution_count": null,
   "id": "be6c12b9",
   "metadata": {},
   "outputs": [],
   "source": [
    "import cmath\n",
    "\n",
    "def mna(filename):\n",
    "    m = 0\n",
    "    with open(filename) as f:\n",
    "        x = len(f.read().splitlines())\n",
    "    # Getting dimensions of matrix.\n",
    "    with open(filename) as f:\n",
    "        maxi = 0\n",
    "        for i in range(x):\n",
    "            if f.readline().split() == ['.circuit']:\n",
    "                line = ''\n",
    "                while line.split() != ['.end']:\n",
    "                    line = f.readline()\n",
    "                    spl = line.split()\n",
    "                    if line[0] == 'V':\n",
    "                        m += 1\n",
    "                    elif line[0] == 'R' or line[0] == 'C' or line[0] == 'L':\n",
    "                        if spl[1] != 'GND' and spl[2] != 'GND':\n",
    "                            maxi = max(int(spl[1][-1]), int(spl[2][-1]), maxi)\n",
    "                        elif spl[1] == 'GND' or spl[2] != 'GND':\n",
    "                            maxi = max(int(spl[2][-1]), maxi)\n",
    "                        elif spl[1] != 'GND' or spl[2] == 'GND':\n",
    "                            maxi = max(int(spl[1][-1]), maxi)\n",
    "    # reading lines after .end line in file for ac circuits to get frequency.\n",
    "                w = 0\n",
    "                line = f.readline()\n",
    "                if line != '' and line.split()[0] == '.ac':\n",
    "                    w = int(line.split()[2])\n",
    "    ac = 0\n",
    "    m = maxi + m # matrix dimension.\n",
    "    if w == 0:\n",
    "        G = np.zeros((m,m))\n",
    "    else:\n",
    "        G = np.zeros((m, m), dtype=complex)\n",
    "    if w == 0:\n",
    "        I = np.zeros(m)\n",
    "    else:\n",
    "        I = np.zeros(m, dtype=complex)\n",
    "    # matrix formation.\n",
    "    with open(filename) as f:\n",
    "        for i in range(x):\n",
    "            if f.readline().split() == ['.circuit']:\n",
    "                line = ''\n",
    "                while line.split() != ['.end']:\n",
    "                    line = f.readline()\n",
    "                    spl = line.split()\n",
    "    # Resistor data into matrix.\n",
    "                    if line[0] == 'R' and spl[1] != 'GND' and spl[2] != 'GND':\n",
    "                        G[int(spl[1][-1])][int(spl[1][-1])] += 1/float(spl[3])\n",
    "                        G[int(spl[2][-1])][int(spl[2][-1])] += 1/float(spl[3])\n",
    "                        G[int(spl[1][-1])][int(spl[2][-1])] += -1/float(spl[3])\n",
    "                        G[int(spl[2][-1])][int(spl[1][-1])] += -1/float(spl[3])\n",
    "                    elif line[0] == 'R' and spl[1] == 'GND':\n",
    "                        G[int(spl[2][-1])][int(spl[2][-1])] += 1/float(spl[3])\n",
    "                    elif line[0] == 'R' and spl[2] == 'GND':\n",
    "                        G[int(spl[1][-1])][int(spl[1][-1])] += 1/float(spl[3])\n",
    "                    \n",
    "    # inductor data into matrix.\n",
    "                    if line[0] == 'L' and spl[1] != 'GND' and spl[2] != 'GND':\n",
    "                        G[int(spl[1][-1])][int(spl[1][-1])] += 1/(float(spl[3])*1j*w)\n",
    "                        G[int(spl[2][-1])][int(spl[2][-1])] += 1/(float(spl[3])*1j*w)\n",
    "                        G[int(spl[1][-1])][int(spl[2][-1])] += -1/(float(spl[3])*1j*w)\n",
    "                        G[int(spl[2][-1])][int(spl[1][-1])] += -1/(float(spl[3])*1j*w)\n",
    "                    elif line[0] == 'L' and spl[1] == 'GND':\n",
    "                        G[int(spl[2][-1])][int(spl[2][-1])] += 1/(float(spl[3])*1j*w)\n",
    "                    elif line[0] == 'L' and spl[2] == 'GND':\n",
    "                        G[int(spl[1][-1])][int(spl[1][-1])] += 1/(float(spl[3])*1j*w)\n",
    "\n",
    "    # capacitor data into matrix.\n",
    "                    if line[0] == 'C' and spl[1] != 'GND' and spl[2] != 'GND':\n",
    "                        G[int(spl[1][-1])][int(spl[1][-1])] += float(spl[3])*1j*w\n",
    "                        G[int(spl[2][-1])][int(spl[2][-1])] += float(spl[3])*1j*w\n",
    "                        G[int(spl[1][-1])][int(spl[2][-1])] += float(spl[3])*1j*w\n",
    "                        G[int(spl[2][-1])][int(spl[1][-1])] += float(spl[3])*1j*w\n",
    "                    elif line[0] == 'C' and spl[1] == 'GND':\n",
    "                        G[int(spl[2][-1])][int(spl[2][-1])] += 1j*float(spl[3])*w\n",
    "                    elif line[0] == 'C' and spl[2] == 'GND':\n",
    "                        G[int(spl[1][-1])][int(spl[1][-1])] += 1j*float(spl[3])*w\n",
    "\n",
    "    # voltage data into matrix(Auxilary currents).\n",
    "                    elif line[0] == 'V' and spl[1] != 'GND' and spl[2] != 'GND':\n",
    "                        for i in range(m):\n",
    "                            if (G[i] == np.zeros(m)).all():\n",
    "                                break\n",
    "                        G[i][int(spl[1][-1])] += 1\n",
    "                        G[int(spl[1][-1])][i] += 1\n",
    "                        G[i][int(spl[2][-1])] += 1\n",
    "                        G[int(spl[2][-1])][i] += -1\n",
    "                        if spl[3] == 'dc':\n",
    "                            I[i] += float(spl[4])\n",
    "                        elif spl[3] == 'ac':\n",
    "                            ac = 1\n",
    "                            I[i] += cmath.rect(float(spl[4]), np.deg2rad(float(spl[5])))\n",
    "                        print(f'{I[i]} is auxilary current through voltage source.')\n",
    "                    elif line[0] == 'V' and spl[1] == 'GND':\n",
    "                        for i in range(m):\n",
    "                            if (G[i] == np.zeros(m, dtype = complex)).all():\n",
    "                                break\n",
    "                        G[i][int(spl[2][-1])] += 1\n",
    "                        G[int(spl[2][-1])][i] += -1\n",
    "                        if spl[3] == 'dc':\n",
    "                            I[i] += float(spl[4])\n",
    "                        elif spl[3] == 'ac':\n",
    "                            ac = 1\n",
    "                            I[i] += cmath.rect(float(spl[4]), np.deg2rad(float(spl[5])))\n",
    "                        print(f'{i}th element in result is auxilary current through voltage source.')\n",
    "                    elif line[0] == 'V' and spl[2] == 'GND':\n",
    "                        for i in range(m):\n",
    "                            if (G[i] == np.zeros(m, dtype = complex)).all():\n",
    "                                break\n",
    "                        G[int(spl[1][-1])] += 1\n",
    "                        G[int(spl[1][-1])][i] += 1\n",
    "                        if spl[3] == 'dc':\n",
    "                            I[i] += float(spl[4])\n",
    "                        elif spl[3] == 'ac':\n",
    "                            ac = 1\n",
    "                            I[i] += cmath.rect(float(spl[4]), np.deg2rad(float(spl[5])))\n",
    "                        print(f'{I[i]} is auxilary current through voltage source.')\n",
    "\n",
    "# current data into matrix.\n",
    "                    elif line[0] == 'I' and spl[1] == 'GND':\n",
    "                        if spl[3] == 'dc':\n",
    "                            I[int(spl[2][-1])] += float(spl[4])\n",
    "                        elif spl[3] == 'ac':\n",
    "                            ac = 1\n",
    "                            I[int(spl[2][-1])] += cmath.rect(float(spl[4]), np.deg2rad(float(spl[5])))\n",
    "                    elif line[0] == 'I' and spl[2] == 'GND':\n",
    "                        if spl[3] == 'dc':\n",
    "                            I[int(spl[1][-1])] += -float(spl[4])\n",
    "                        elif spl[3] == 'ac':\n",
    "                            ac = 1\n",
    "                            I[int(spl[1][-1])] += -cmath.rect(float(spl[4]), np.deg2rad(float(spl[5])))\n",
    "                    elif line[0] == 'I' and spl[1] != 'GND' and spl[2] != 'GND':\n",
    "                        if spl[3] == 'dc':\n",
    "                            I[int(spl[1][-1])] += -float(spl[4])\n",
    "                            I[int(spl[2][-1])] += float(spl[4])\n",
    "                        elif spl[3] == 'ac':\n",
    "                            ac = 1\n",
    "                            I[int(spl[1][-1])] += -cmath.rect(float(spl[4]), np.deg2rad(float(spl[5])))\n",
    "                            I[int(spl[2][-1])] += cmath.rect(float(spl[4]), np.deg2rad(float(spl[5])))\n",
    "        print('And the remaining are the node voltages in the below list.')\n",
    "    if ac == 0:\n",
    "        return MySolver(G, I, w)\n",
    "    else:\n",
    "        try:\n",
    "            return [cmath.polar(x) for x in MySolver(G, I, w)]\n",
    "        except:\n",
    "            pass"
   ]
  },
  {
   "attachments": {},
   "cell_type": "markdown",
   "id": "14f38da9",
   "metadata": {},
   "source": [
    "**Explanation:**\n",
    "\n",
    "- Used cmath library to convert complex to phasor and vice versa.\n",
    "- This function takes file name as input and gives out all the node voltages and auxilary currents in the circuit.\n",
    "- I followed MNA(**Modified nodal analysis**) to build this function.\n",
    "- I reads the values from the file and creates G and I matrices, solves them to give V matrix.\n",
    "- I solves both dc and ac(with single frequency) circuits."
   ]
  },
  {
   "attachments": {},
   "cell_type": "markdown",
   "id": "e3ca0d5d",
   "metadata": {
    "tags": []
   },
   "source": [
    "### Solution for a DC circuit."
   ]
  },
  {
   "cell_type": "code",
   "execution_count": null,
   "id": "46fd59f3",
   "metadata": {},
   "outputs": [],
   "source": [
    "print(mna('dcCkt.netlist'))"
   ]
  },
  {
   "attachments": {},
   "cell_type": "markdown",
   "id": "a357eac2",
   "metadata": {},
   "source": [
    "**Explanation:**\n",
    "\n",
    "The equations of the given circuit using nodal analysis are as follows:\n",
    "\n",
    "$$\n",
    "\\begin{aligned}\n",
    "V1 & - & 0 & = & 30\\\\\n",
    "\\frac{V2-V1}{R1} & + & \\frac{V2-0}{R2} & + & \\frac{V2-V3}{R3} & = & 0 \\\\\n",
    "\\frac{V3-V2}{R3} & + & \\frac{V3-0}{R4} & + & 1 & = & 0 \\\\\n",
    "\\frac{V4-0}{R5} & - & 1 & = & 0\n",
    "\\end{aligned}\n",
    "$$\n",
    "\n",
    "The above 4 system of linear equations can be written in matrix form as follows:\n",
    "\n",
    "$$\n",
    "\\begin{bmatrix}\n",
    "1 & 0 & 0 & 0 \\\\\n",
    "\\frac{-1}{R1} & \\frac{1}{R1}+\\frac{1}{R2}+\\frac{1}{R3} & \\frac{-1}{R3}  & 0 \\\\\n",
    "0 & \\frac{-1}{R3} & \\frac{1}{R3}+\\frac{1}{R4} & 0 \\\\\n",
    "0 & 0 & 0 & \\frac{1}{R5}\n",
    "\\end{bmatrix}\n",
    "\\begin{bmatrix}\n",
    "V1 \\\\\n",
    "V2 \\\\\n",
    "V3 \\\\\n",
    "V4\n",
    "\\end{bmatrix}\n",
    "=\n",
    "\\begin{bmatrix}\n",
    "30 \\\\\n",
    "0 \\\\\n",
    "-1 \\\\\n",
    "1\n",
    "\\end{bmatrix}\n",
    "$$\n",
    "This matrix is directly formed using MNA in the function."
   ]
  },
  {
   "attachments": {},
   "cell_type": "markdown",
   "id": "fcc38a1b",
   "metadata": {
    "tags": []
   },
   "source": [
    "### Solution for an AC circuit."
   ]
  },
  {
   "cell_type": "code",
   "execution_count": null,
   "id": "f799bc10",
   "metadata": {},
   "outputs": [],
   "source": [
    "mna('dcCkt.netlist')"
   ]
  },
  {
   "attachments": {},
   "cell_type": "markdown",
   "id": "83e2363b",
   "metadata": {},
   "source": [
    "**Explanation**\n",
    "\n",
    "- The output values are in phasor form"
   ]
  }
 ],
 "metadata": {
  "kernelspec": {
   "display_name": "Python 3 (ipykernel)",
   "language": "python",
   "name": "python3"
  },
  "language_info": {
   "codemirror_mode": {
    "name": "ipython",
    "version": 3
   },
   "file_extension": ".py",
   "mimetype": "text/x-python",
   "name": "python",
   "nbconvert_exporter": "python",
   "pygments_lexer": "ipython3",
   "version": "3.10.6"
  },
  "vscode": {
   "interpreter": {
    "hash": "aee8b7b246df8f9039afb4144a1f6fd8d2ca17a180786b69acc140d282b71a49"
   }
  }
 },
 "nbformat": 4,
 "nbformat_minor": 5
}
